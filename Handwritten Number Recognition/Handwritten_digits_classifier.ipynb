{
 "cells": [
  {
   "cell_type": "markdown",
   "id": "eaa51e58",
   "metadata": {},
   "source": [
    "## Handwritten digits classifier - Keras"
   ]
  },
  {
   "cell_type": "markdown",
   "id": "977efcf1",
   "metadata": {},
   "source": [
    "## Imports"
   ]
  },
  {
   "cell_type": "code",
   "execution_count": 18,
   "id": "4de86f77",
   "metadata": {},
   "outputs": [],
   "source": [
    "import numpy as np\n",
    "from keras.datasets import mnist\n",
    "from keras.models import Sequential\n",
    "from keras.layers import Dense, Dropout, Flatten\n",
    "from keras.layers import Conv2D, MaxPooling2D\n",
    "from keras import backend as K\n",
    "from keras.optimizers import SGD \n",
    "from keras.models import load_model\n",
    "import cv2\n",
    "import matplotlib.pyplot as plt\n",
    "%matplotlib inline"
   ]
  },
  {
   "cell_type": "markdown",
   "id": "604644aa",
   "metadata": {},
   "source": [
    "## Constants"
   ]
  },
  {
   "cell_type": "code",
   "execution_count": 19,
   "id": "82e1eb30",
   "metadata": {},
   "outputs": [],
   "source": [
    "NO_OF_CLASSESS=10\n",
    "VALIDATION_SIZE=10000\n",
    "IMAGE_WIDTH=28\n",
    "IMAGE_HEIGHT=28\n",
    "NO_OF_CHANNELS=1  # ONLY BLACK AND WHITE\n",
    "TOTAL_INPUTS = IMAGE_HEIGHT*IMAGE_WIDTH"
   ]
  },
  {
   "cell_type": "code",
   "execution_count": 20,
   "id": "79939eae",
   "metadata": {},
   "outputs": [
    {
     "name": "stdout",
     "output_type": "stream",
     "text": [
      "(60000, 28, 28)\n"
     ]
    }
   ],
   "source": [
    "# Loading data from mnist\n",
    "(x_train,y_train),(x_test,y_test)=mnist.load_data()\n",
    "print(x_train.shape)"
   ]
  },
  {
   "cell_type": "code",
   "execution_count": 21,
   "id": "e3617e2d",
   "metadata": {},
   "outputs": [
    {
     "name": "stdout",
     "output_type": "stream",
     "text": [
      "Number of samples in training set: 60000\n",
      "Number of samples in testing set: 10000\n"
     ]
    }
   ],
   "source": [
    "print(\"Number of samples in training set:\",len(x_train))\n",
    "print(\"Number of samples in testing set:\",len(x_test))"
   ]
  },
  {
   "cell_type": "code",
   "execution_count": 22,
   "id": "a443e21f",
   "metadata": {},
   "outputs": [
    {
     "data": {
      "image/png": "[encoded data removed]",
      "text/plain": [
       "<Figure size 432x288 with 6 Axes>"
      ]
     },
     "metadata": {
      "needs_background": "light"
     },
     "output_type": "display_data"
    }
   ],
   "source": [
    "# Check the dataset\n",
    "for i in range(6):\n",
    "    plt.subplot(330+i+1)\n",
    "    rand_num=np.random.randint(0,len(x_train))\n",
    "    plt.imshow(x_train[rand_num], cmap=plt.get_cmap('gray'))\n",
    "plt.show()"
   ]
  },
  {
   "cell_type": "code",
   "execution_count": 23,
   "id": "9268067a",
   "metadata": {},
   "outputs": [],
   "source": [
    "img_rows = x_train[0].shape[0]\n",
    "img_cols = x_train[0].shape[1]\n",
    "\n",
    "# Keras need 4th dimension for colour\n",
    "x_train = x_train.reshape(x_train.shape[0], img_rows, img_cols, 1)\n",
    "x_test = x_test.reshape(x_test.shape[0], img_rows, img_cols, 1)\n",
    "\n",
    "# store the shape of a single image \n",
    "input_shape = (img_rows, img_cols, 1)\n",
    "\n",
    "x_train = x_train.astype('float32')\n",
    "x_test = x_test.astype('float32')\n",
    "# Normalizing the data\n",
    "x_train /= 255\n",
    "x_test /= 255"
   ]
  },
  {
   "cell_type": "code",
   "execution_count": 24,
   "id": "0759662b",
   "metadata": {},
   "outputs": [],
   "source": [
    "y_train=np.eye(NO_OF_CLASSESS)[y_train]\n",
    "y_test=np.eye(NO_OF_CLASSESS)[y_test]"
   ]
  },
  {
   "cell_type": "code",
   "execution_count": 25,
   "id": "cbfead03",
   "metadata": {},
   "outputs": [
    {
     "data": {
      "text/plain": [
       "784"
      ]
     },
     "execution_count": 25,
     "metadata": {},
     "output_type": "execute_result"
    }
   ],
   "source": [
    "num_pixels = x_train.shape[1] * x_train.shape[2]\n",
    "num_pixels"
   ]
  },
  {
   "cell_type": "markdown",
   "id": "f142688d",
   "metadata": {},
   "source": [
    "# Model CNN\n",
    "- We're constructing a simple but effective CNN that uses 32 filters of size 3x3\n",
    "- We've added a 2nd CONV layer of 64 filters of the same size 3x2\n",
    "- We then downsample our data to 2x2, here he apply a dropout where p is set to 0.25\n",
    "- We then flatten our Max Pool output that is connected to a Dense/FC layer that has an output size of 128\n",
    "- How we apply a dropout where P is set to 0.5\n",
    "- Thus 128 output is connected to another FC/Dense layer that outputs to the 10 categorical units"
   ]
  },
  {
   "cell_type": "code",
   "execution_count": 26,
   "id": "8d99129b",
   "metadata": {},
   "outputs": [
    {
     "name": "stdout",
     "output_type": "stream",
     "text": [
      "Model: \"sequential_1\"\n",
      "_________________________________________________________________\n",
      "Layer (type)                 Output Shape              Param #   \n",
      "=================================================================\n",
      "conv2d_2 (Conv2D)            (None, 26, 26, 32)        320       \n",
      "_________________________________________________________________\n",
      "conv2d_3 (Conv2D)            (None, 24, 24, 64)        18496     \n",
      "_________________________________________________________________\n",
      "max_pooling2d_1 (MaxPooling2 (None, 12, 12, 64)        0         \n",
      "_________________________________________________________________\n",
      "dropout_2 (Dropout)          (None, 12, 12, 64)        0         \n",
      "_________________________________________________________________\n",
      "flatten_1 (Flatten)          (None, 9216)              0         \n",
      "_________________________________________________________________\n",
      "dense_2 (Dense)              (None, 128)               1179776   \n",
      "_________________________________________________________________\n",
      "dropout_3 (Dropout)          (None, 128)               0         \n",
      "_________________________________________________________________\n",
      "dense_3 (Dense)              (None, 10)                1290      \n",
      "=================================================================\n",
      "Total params: 1,199,882\n",
      "Trainable params: 1,199,882\n",
      "Non-trainable params: 0\n",
      "_________________________________________________________________\n",
      "None\n"
     ]
    }
   ],
   "source": [
    "model = Sequential()\n",
    "model.add(Conv2D(32,kernel_size=(3,3),activation='relu',input_shape=input_shape))  # Layers\n",
    "model.add(Conv2D(64,kernel_size=(3,3),activation='relu'))\n",
    "model.add(MaxPooling2D(pool_size=(2, 2))) # Reduces the dimensionalty\n",
    "model.add(Dropout(0.25))  # To avoid overfitting\n",
    "model.add(Flatten())  # Multidim to vector\n",
    "model.add(Dense(128, activation='relu'))\n",
    "model.add(Dropout(0.5))\n",
    "model.add(Dense(NO_OF_CLASSESS, activation='softmax'))\n",
    "\n",
    "model.compile(loss = 'categorical_crossentropy',\n",
    "              optimizer = SGD(0.01),\n",
    "              metrics = ['accuracy'])\n",
    "\n",
    "print(model.summary())"
   ]
  },
  {
   "cell_type": "markdown",
   "id": "64b32397",
   "metadata": {},
   "source": [
    "## Training our model"
   ]
  },
  {
   "cell_type": "code",
   "execution_count": 27,
   "id": "fdd41ce2",
   "metadata": {},
   "outputs": [
    {
     "name": "stdout",
     "output_type": "stream",
     "text": [
      "Epoch 1/10\n",
      "2000/2000 [==============================] - 66s 33ms/step - loss: 0.5953 - accuracy: 0.8155 - val_loss: 0.1986 - val_accuracy: 0.9415\n",
      "Epoch 2/10\n",
      "2000/2000 [==============================] - 72s 36ms/step - loss: 0.2857 - accuracy: 0.9130 - val_loss: 0.1344 - val_accuracy: 0.9598\n",
      "Epoch 3/10\n",
      "2000/2000 [==============================] - 75s 37ms/step - loss: 0.2113 - accuracy: 0.9364 - val_loss: 0.0986 - val_accuracy: 0.9699\n",
      "Epoch 4/10\n",
      "2000/2000 [==============================] - 75s 37ms/step - loss: 0.1663 - accuracy: 0.9509 - val_loss: 0.0789 - val_accuracy: 0.9737\n",
      "Epoch 5/10\n",
      "2000/2000 [==============================] - 76s 38ms/step - loss: 0.1374 - accuracy: 0.9592 - val_loss: 0.0656 - val_accuracy: 0.9779\n",
      "Epoch 6/10\n",
      "2000/2000 [==============================] - 71s 35ms/step - loss: 0.1173 - accuracy: 0.9647 - val_loss: 0.0564 - val_accuracy: 0.9814\n",
      "Epoch 7/10\n",
      "2000/2000 [==============================] - 74s 37ms/step - loss: 0.1067 - accuracy: 0.9679 - val_loss: 0.0522 - val_accuracy: 0.9832\n",
      "Epoch 8/10\n",
      "2000/2000 [==============================] - 75s 37ms/step - loss: 0.0956 - accuracy: 0.9713 - val_loss: 0.0474 - val_accuracy: 0.9851\n",
      "Epoch 9/10\n",
      "2000/2000 [==============================] - 70s 35ms/step - loss: 0.0897 - accuracy: 0.9735 - val_loss: 0.0425 - val_accuracy: 0.9866\n",
      "Epoch 10/10\n",
      "2000/2000 [==============================] - 76s 38ms/step - loss: 0.0793 - accuracy: 0.9763 - val_loss: 0.0447 - val_accuracy: 0.9848\n",
      "Test loss: 0.0447133406996727\n",
      "Test accuracy: 0.9847999811172485\n",
      "Wall time: 12min 11s\n"
     ]
    }
   ],
   "source": [
    "%%time\n",
    "batch_size = 30\n",
    "epochs = 10\n",
    "\n",
    "history = model.fit(x_train,\n",
    "                    y_train,\n",
    "                    batch_size = batch_size,\n",
    "                    epochs = epochs,\n",
    "                    verbose = 1,\n",
    "                    validation_data = (x_test, y_test))\n",
    "\n",
    "score = model.evaluate(x_test, y_test, verbose=0)\n",
    "print('Test loss:', score[0])\n",
    "print('Test accuracy:', score[1])"
   ]
  },
  {
   "cell_type": "code",
   "execution_count": 28,
   "id": "1c252b9d",
   "metadata": {},
   "outputs": [
    {
     "name": "stdout",
     "output_type": "stream",
     "text": [
      "Test loss: 0.0447133406996727\n",
      "Test accuracy: 0.9847999811172485\n"
     ]
    }
   ],
   "source": [
    "score = model.evaluate(x_test, y_test, verbose=0)\n",
    "print('Test loss:', score[0])\n",
    "print('Test accuracy:', score[1])"
   ]
  },
  {
   "cell_type": "code",
   "execution_count": 29,
   "id": "a6fc9097",
   "metadata": {},
   "outputs": [
    {
     "data": {
      "image/png": "[encoded data removed]",
      "text/plain": [
       "<Figure size 432x288 with 1 Axes>"
      ]
     },
     "metadata": {
      "needs_background": "light"
     },
     "output_type": "display_data"
    }
   ],
   "source": [
    "# Plotting our accuracy charts\n",
    "import matplotlib.pyplot as plt\n",
    "\n",
    "history_dict = history.history\n",
    "\n",
    "acc_values = history_dict['accuracy']\n",
    "val_acc_values = history_dict['val_accuracy']\n",
    "epochs = range(1, len(acc_values) + 1)\n",
    "line1 = plt.plot(epochs, val_acc_values, label='Validation/Test Accuracy')\n",
    "line2 = plt.plot(epochs, acc_values, label='Training Accuracy')\n",
    "plt.xlabel('Epochs') \n",
    "plt.ylabel('Accuracy')\n",
    "plt.grid(True)\n",
    "plt.legend()\n",
    "plt.show()"
   ]
  },
  {
   "cell_type": "code",
   "execution_count": 30,
   "id": "54e8a295",
   "metadata": {},
   "outputs": [
    {
     "name": "stdout",
     "output_type": "stream",
     "text": [
      "{'loss': [0.5952909588813782, 0.2857043147087097, 0.2113138884305954, 0.16633106768131256, 0.13738134503364563, 0.11729725450277328, 0.10669515281915665, 0.09560863673686981, 0.08966812491416931, 0.07932985574007034], 'accuracy': [0.8154500126838684, 0.9129666686058044, 0.9363833069801331, 0.9508500099182129, 0.9591500163078308, 0.9647166728973389, 0.9678999781608582, 0.9713000059127808, 0.9735333323478699, 0.9763166904449463], 'val_loss': [0.19861125946044922, 0.13436196744441986, 0.09863774478435516, 0.07887998968362808, 0.06556203216314316, 0.05640965700149536, 0.05224393308162689, 0.047413043677806854, 0.04249778017401695, 0.04471337050199509], 'val_accuracy': [0.9415000081062317, 0.9598000049591064, 0.9699000120162964, 0.9736999869346619, 0.9779000282287598, 0.9814000129699707, 0.9832000136375427, 0.9850999712944031, 0.9865999817848206, 0.9847999811172485]}\n"
     ]
    }
   ],
   "source": [
    "print(history.history)"
   ]
  },
  {
   "cell_type": "code",
   "execution_count": 31,
   "id": "1870a01c",
   "metadata": {},
   "outputs": [],
   "source": [
    "# Saving the model\n",
    "model.save(\"C:/Users/LENOVO/DeepLearningCV/trained_model1.h5\")\n",
    "# h5 is heirarchical data format"
   ]
  },
  {
   "cell_type": "code",
   "execution_count": 32,
   "id": "9b8b606e",
   "metadata": {},
   "outputs": [],
   "source": [
    "# Load the classifier\n",
    "classifier = load_model('C:/Users/LENOVO/DeepLearningCV/trained_model1.h5')"
   ]
  },
  {
   "cell_type": "code",
   "execution_count": 33,
   "id": "e94e3c8b",
   "metadata": {},
   "outputs": [
    {
     "name": "stdout",
     "output_type": "stream",
     "text": [
      "WARNING:tensorflow:From <ipython-input-33-64781d6dd594>:15: Sequential.predict_classes (from tensorflow.python.keras.engine.sequential) is deprecated and will be removed after 2021-01-01.\n",
      "Instructions for updating:\n",
      "Please use instead:* `np.argmax(model.predict(x), axis=-1)`,   if your model does multi-class classification   (e.g. if it uses a `softmax` last-layer activation).* `(model.predict(x) > 0.5).astype(\"int32\")`,   if your model does binary classification   (e.g. if it uses a `sigmoid` last-layer activation).\n"
     ]
    }
   ],
   "source": [
    "def draw_test(name, pred, input_im):\n",
    "    BLACK = [0,0,0]\n",
    "    expanded_image = cv2.copyMakeBorder(input_im, 0, 0, 0, imageL.shape[0] ,cv2.BORDER_CONSTANT,value=BLACK)\n",
    "    expanded_image = cv2.cvtColor(expanded_image, cv2.COLOR_GRAY2BGR)\n",
    "    cv2.putText(expanded_image, str(pred), (152, 70) , cv2.FONT_HERSHEY_COMPLEX_SMALL,4, (255,255,0), 2)\n",
    "    cv2.imshow(name, expanded_image)\n",
    "\n",
    "for i in range(0,5):\n",
    "    rand = np.random.randint(0,len(x_test))\n",
    "    input_im = x_test[rand]\n",
    "\n",
    "    imageL = cv2.resize(input_im, None, fx=4, fy=4, interpolation = cv2.INTER_CUBIC)\n",
    "    input_im = input_im.reshape(1,28,28,1) \n",
    "\n",
    "    res = str(classifier.predict_classes(input_im, 1, verbose = 0)[0])\n",
    "\n",
    "    draw_test(\"Prediction\", res, imageL) \n",
    "    cv2.waitKey(0)\n",
    "\n",
    "cv2.destroyAllWindows()"
   ]
  },
  {
   "cell_type": "code",
   "execution_count": null,
   "id": "2e0c0b85",
   "metadata": {},
   "outputs": [],
   "source": []
  }
 ],
 "metadata": {
  "kernelspec": {
   "display_name": "Python 3",
   "language": "python",
   "name": "python3"
  },
  "language_info": {
   "codemirror_mode": {
    "name": "ipython",
    "version": 3
   },
   "file_extension": ".py",
   "mimetype": "text/x-python",
   "name": "python",
   "nbconvert_exporter": "python",
   "pygments_lexer": "ipython3",
   "version": "3.8.8"
  }
 },
 "nbformat": 4,
 "nbformat_minor": 5
}
